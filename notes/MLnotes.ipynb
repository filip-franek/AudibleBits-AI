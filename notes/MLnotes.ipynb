{
 "cells": [
  {
   "cell_type": "markdown",
   "metadata": {},
   "source": [
    "# Vectorization\n",
    "## why to vectorize"
   ]
  },
  {
   "cell_type": "code",
   "execution_count": 7,
   "metadata": {},
   "outputs": [
    {
     "name": "stdout",
     "output_type": "stream",
     "text": [
      "a =  [0.51639863 0.57066759 0.02847423 ... 0.08746427 0.54645473 0.9239232 ] \n",
      "b =  [0.59768158 0.6759869  0.29928174 ... 0.39269038 0.65046064 0.29465185]\n"
     ]
    }
   ],
   "source": [
    "import numpy as np\n",
    "np.random.seed(101)\n",
    "numElem = 1000000;\n",
    "a = np.random.rand(numElem)\n",
    "np.random.seed(102)\n",
    "b = np.random.rand(numElem)\n",
    "print(\"a = \", a,'\\nb = ',b)"
   ]
  },
  {
   "cell_type": "code",
   "execution_count": 8,
   "metadata": {},
   "outputs": [
    {
     "name": "stdout",
     "output_type": "stream",
     "text": [
      "249630.3528377748\n",
      "Vectorized version: 6.98399543762207  ms\n"
     ]
    }
   ],
   "source": [
    "import time\n",
    "tic = time.time()\n",
    "c = np.dot(a,b)\n",
    "toc = time.time()\n",
    "vec_time = toc-tic;\n",
    "print(c)\n",
    "print(\"Vectorized version:\", str(1000*(vec_time)), \" ms\")"
   ]
  },
  {
   "cell_type": "code",
   "execution_count": 13,
   "metadata": {},
   "outputs": [
    {
     "name": "stdout",
     "output_type": "stream",
     "text": [
      "249630.35283777452\n",
      "For loop version: 739.0241622924805  ms\n",
      "vectorized dot product is 105x faster then for loop dot product\n"
     ]
    }
   ],
   "source": [
    "tic = time.time()\n",
    "c = 0;\n",
    "for i in range(numElem):\n",
    "    c += a[i]*b[i]\n",
    "toc = time.time()\n",
    "loop_time = toc-tic\n",
    "print(c)\n",
    "print(\"For loop version:\", str(1000*(loop_time)), \" ms\")\n",
    "print(\"vectorized dot product is \" + str(int(loop_time//vec_time)) + \"x faster then for loop dot product\")"
   ]
  },
  {
   "cell_type": "markdown",
   "metadata": {},
   "source": [
    "## broadcasting"
   ]
  },
  {
   "cell_type": "code",
   "execution_count": 15,
   "metadata": {},
   "outputs": [
    {
     "ename": "NameError",
     "evalue": "name 'transpose' is not defined",
     "output_type": "error",
     "traceback": [
      "\u001b[1;31m---------------------------------------------------------------------------\u001b[0m",
      "\u001b[1;31mNameError\u001b[0m                                 Traceback (most recent call last)",
      "\u001b[1;32m<ipython-input-15-6ad3aa7bd083>\u001b[0m in \u001b[0;36m<module>\u001b[1;34m()\u001b[0m\n\u001b[1;32m----> 1\u001b[1;33m \u001b[0mz\u001b[0m \u001b[1;33m=\u001b[0m \u001b[0mnp\u001b[0m\u001b[1;33m.\u001b[0m\u001b[0mzeros\u001b[0m\u001b[1;33m(\u001b[0m\u001b[1;33m(\u001b[0m\u001b[1;36m10\u001b[0m\u001b[1;33m,\u001b[0m\u001b[1;36m2\u001b[0m\u001b[1;33m)\u001b[0m\u001b[1;33m)\u001b[0m\u001b[1;33m.\u001b[0m\u001b[0mT\u001b[0m \u001b[1;33m//\u001b[0m \u001b[0mtranspose\u001b[0m\u001b[1;33m\u001b[0m\u001b[0m\n\u001b[0m\u001b[0;32m      2\u001b[0m \u001b[0mprint\u001b[0m\u001b[1;33m(\u001b[0m\u001b[0mz\u001b[0m\u001b[1;33m)\u001b[0m\u001b[1;33m\u001b[0m\u001b[0m\n\u001b[0;32m      3\u001b[0m \u001b[0mz\u001b[0m\u001b[1;33m.\u001b[0m\u001b[0mshape\u001b[0m\u001b[1;33m\u001b[0m\u001b[0m\n",
      "\u001b[1;31mNameError\u001b[0m: name 'transpose' is not defined"
     ]
    }
   ],
   "source": [
    "z = np.zeros((10,2)).T  transpose\n",
    "print(z)\n",
    "z.shape"
   ]
  },
  {
   "cell_type": "code",
   "execution_count": 11,
   "metadata": {},
   "outputs": [
    {
     "name": "stdout",
     "output_type": "stream",
     "text": [
      "[[0.96114072 0.04760622 0.76740468 0.6771542  0.8898101 ]\n",
      " [0.71411727 0.68242519 0.94151206 0.51779182 0.80722234]]\n"
     ]
    }
   ],
   "source": [
    "d = np.random.rand(10).reshape(2,5)\n",
    "print(d)"
   ]
  },
  {
   "cell_type": "code",
   "execution_count": 32,
   "metadata": {},
   "outputs": [],
   "source": [
    "e = np.array([[1, 1, 1],\n",
    "              [2, 3, 4]])"
   ]
  },
  {
   "cell_type": "code",
   "execution_count": 35,
   "metadata": {},
   "outputs": [
    {
     "name": "stdout",
     "output_type": "stream",
     "text": [
      "axis 0 [3 4 5]\n",
      "axis 1 [3 9]\n",
      "axis 2 12\n"
     ]
    }
   ],
   "source": [
    "sum_e = e.sum(axis=1)\n",
    "print(\"axis 0\", e.sum(axis=0))\n",
    "print(\"axis 1\", e.sum(axis=1))\n",
    "print(\"axis 2\", e.sum())"
   ]
  },
  {
   "cell_type": "markdown",
   "metadata": {},
   "source": [
    "## Numpy Arrays"
   ]
  },
  {
   "cell_type": "code",
   "execution_count": 138,
   "metadata": {},
   "outputs": [
    {
     "name": "stdout",
     "output_type": "stream",
     "text": [
      "1D array: \n",
      " [1 2 3]\n",
      "2D array: \n",
      " [[1 2 3]\n",
      " [4 5 6]]\n",
      "3D array: \n",
      " [list([[1, 2, 3], [4, 5, 6]]) list([1, 2, 3]) list([4, 5, 6])]\n"
     ]
    }
   ],
   "source": [
    "# 1D arrays\n",
    "arr1D = np.array([1,2,3])\n",
    "# 2D arrays\n",
    "arr2D = np.array([[1,2,3],\n",
    "                  [4,5,6]])\n",
    "arr3D = np.array([[[1,2,3],\n",
    "                  [4,5,6]],[1,2,3],\n",
    "                  [4,5,6]])\n",
    "print(\"1D array: \\n\", arr1D)\n",
    "print(\"2D array: \\n\", arr2D)\n",
    "print(\"3D array: \\n\", arr3D)"
   ]
  },
  {
   "cell_type": "code",
   "execution_count": 144,
   "metadata": {},
   "outputs": [
    {
     "data": {
      "text/plain": [
       "array([[9, 1, 2, 3],\n",
       "       [8, 4, 5, 6]])"
      ]
     },
     "execution_count": 144,
     "metadata": {},
     "output_type": "execute_result"
    }
   ],
   "source": [
    "# np.insert(arr1D,0,[9,9])\n",
    "np.insert(arr2D,0,[9,8],axis=1)"
   ]
  },
  {
   "cell_type": "code",
   "execution_count": 145,
   "metadata": {},
   "outputs": [
    {
     "data": {
      "text/plain": [
       "array([[9, 8, 7],\n",
       "       [1, 2, 3],\n",
       "       [4, 5, 6]])"
      ]
     },
     "execution_count": 145,
     "metadata": {},
     "output_type": "execute_result"
    }
   ],
   "source": [
    "np.insert(arr2D,0,[9,8,7],axis=0)"
   ]
  },
  {
   "cell_type": "code",
   "execution_count": 146,
   "metadata": {},
   "outputs": [
    {
     "data": {
      "text/plain": [
       "array([[1, 2, 3],\n",
       "       [4, 5, 6],\n",
       "       [9, 8, 7]])"
      ]
     },
     "execution_count": 146,
     "metadata": {},
     "output_type": "execute_result"
    }
   ],
   "source": [
    "np.append(arr2D,[[9,8,7]],axis=0)"
   ]
  },
  {
   "cell_type": "code",
   "execution_count": 150,
   "metadata": {},
   "outputs": [
    {
     "data": {
      "text/plain": [
       "array([[1, 2, 3, 9],\n",
       "       [4, 5, 6, 8]])"
      ]
     },
     "execution_count": 150,
     "metadata": {},
     "output_type": "execute_result"
    }
   ],
   "source": [
    "b = np.array([[9,8]]).T\n",
    "np.append(arr2D,b,axis=1)"
   ]
  },
  {
   "cell_type": "code",
   "execution_count": 152,
   "metadata": {},
   "outputs": [
    {
     "data": {
      "text/plain": [
       "array([[1, 2, 3, 9],\n",
       "       [4, 5, 6, 8]])"
      ]
     },
     "execution_count": 152,
     "metadata": {},
     "output_type": "execute_result"
    }
   ],
   "source": [
    "# or \n",
    "np.append(arr2D,[[9],[8]],axis=1)"
   ]
  },
  {
   "cell_type": "markdown",
   "metadata": {},
   "source": [
    "## Broadcasting"
   ]
  },
  {
   "cell_type": "code",
   "execution_count": 185,
   "metadata": {},
   "outputs": [
    {
     "data": {
      "text/plain": [
       "array([[0, 1, 2],\n",
       "       [3, 4, 5]])"
      ]
     },
     "execution_count": 185,
     "metadata": {},
     "output_type": "execute_result"
    }
   ],
   "source": [
    "np.arange(0,6).reshape(2,3)"
   ]
  },
  {
   "cell_type": "code",
   "execution_count": 186,
   "metadata": {},
   "outputs": [
    {
     "data": {
      "text/plain": [
       "array([[10, 21, 32],\n",
       "       [13, 24, 35]])"
      ]
     },
     "execution_count": 186,
     "metadata": {},
     "output_type": "execute_result"
    }
   ],
   "source": [
    "x+np.array([10,20,30])"
   ]
  },
  {
   "cell_type": "code",
   "execution_count": 188,
   "metadata": {},
   "outputs": [
    {
     "data": {
      "text/plain": [
       "array([[10, 11, 12],\n",
       "       [23, 24, 25]])"
      ]
     },
     "execution_count": 188,
     "metadata": {},
     "output_type": "execute_result"
    }
   ],
   "source": [
    "x+np.array([[10,20]]).T"
   ]
  },
  {
   "cell_type": "code",
   "execution_count": 201,
   "metadata": {},
   "outputs": [
    {
     "data": {
      "text/plain": [
       "array([[10],\n",
       "       [20],\n",
       "       [30]])"
      ]
     },
     "execution_count": 201,
     "metadata": {},
     "output_type": "execute_result"
    }
   ],
   "source": [
    "np.array([[10,20,30]]).T"
   ]
  },
  {
   "cell_type": "code",
   "execution_count": null,
   "metadata": {},
   "outputs": [],
   "source": []
  }
 ],
 "metadata": {
  "kernelspec": {
   "display_name": "Python 3",
   "language": "python",
   "name": "python3"
  },
  "language_info": {
   "codemirror_mode": {
    "name": "ipython",
    "version": 3
   },
   "file_extension": ".py",
   "mimetype": "text/x-python",
   "name": "python",
   "nbconvert_exporter": "python",
   "pygments_lexer": "ipython3",
   "version": "3.6.5"
  }
 },
 "nbformat": 4,
 "nbformat_minor": 2
}
